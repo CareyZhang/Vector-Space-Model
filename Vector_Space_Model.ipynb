{
 "cells": [
  {
   "cell_type": "code",
   "execution_count": 1,
   "metadata": {},
   "outputs": [],
   "source": [
    "import json\n",
    "import math"
   ]
  },
  {
   "cell_type": "code",
   "execution_count": 2,
   "metadata": {},
   "outputs": [],
   "source": [
    "Query = [query.strip('\\n') for query in open(\"query_list.txt\",\"r\")]\n",
    "Doc = [doc.strip('\\n') for doc in open(\"doc_list.txt\",\"r\")]\n",
    "\n",
    "QueryList_index = enumerate(Query)\n",
    "DocList_index = enumerate(Doc)\n",
    "\n",
    "query_cnt = len(Query)\n",
    "doc_cnt = len(Doc)\n",
    "\n",
    "Dictionary = {}\n",
    "DF = {}\n",
    "TF = {}\n",
    "QTF = {}"
   ]
  },
  {
   "cell_type": "code",
   "execution_count": 4,
   "metadata": {},
   "outputs": [],
   "source": [
    "for doc in Doc:\n",
    "    for line in open(\"Document/\"+doc,\"r\").readlines()[3:]:\n",
    "        line = line.split()[0:-1]\n",
    "        for word in line:\n",
    "            if word not in Dictionary:\n",
    "                Dictionary.update({word:0})"
   ]
  },
  {
   "cell_type": "code",
   "execution_count": 5,
   "metadata": {},
   "outputs": [],
   "source": [
    "for query in Query:\n",
    "    for line in open(\"Query/\"+query,\"r\"):\n",
    "        line = line.split()[0:-1]\n",
    "        for word in line:\n",
    "            if word not in Dictionary:\n",
    "                Dictionary.update({word:0})"
   ]
  },
  {
   "cell_type": "code",
   "execution_count": 6,
   "metadata": {},
   "outputs": [],
   "source": [
    "for doc in Doc:\n",
    "    TF.update({doc:Dictionary.copy()})\n",
    "    for line in open(\"Document/\"+doc,\"r\").readlines()[3:]:\n",
    "        line = line.split()[0:-1]\n",
    "        for word in line:\n",
    "            TF[doc].update({word:TF[doc][word] + 1})"
   ]
  },
  {
   "cell_type": "code",
   "execution_count": 7,
   "metadata": {},
   "outputs": [],
   "source": [
    "for query in Query:\n",
    "    QTF.update({query:Dictionary.copy()})\n",
    "    for line in open(\"Query/\"+query,\"r\"):\n",
    "        line = line.split()[0:-1]\n",
    "        for word in line:\n",
    "            QTF[query].update({word:QTF[query][word] + 1})"
   ]
  },
  {
   "cell_type": "code",
   "execution_count": 8,
   "metadata": {},
   "outputs": [],
   "source": [
    "for word in Dictionary.keys():\n",
    "    df_cnt = 0\n",
    "    for doc in Doc:\n",
    "        if TF[doc][word] > 0:\n",
    "            df_cnt += 1\n",
    "    DF.update({word:df_cnt})"
   ]
  },
  {
   "cell_type": "code",
   "execution_count": 9,
   "metadata": {},
   "outputs": [],
   "source": [
    "f = open(\"submission.txt\", \"w\")\n",
    "f.write(\"Query,RetrievedDocuments\\r\\n\")\n",
    "\n",
    "for query in Query:\n",
    "    f.write(query+\",\")\n",
    "    QueryWeight = {}\n",
    "    DocWeight = {}\n",
    "    SIM = {}\n",
    "    for word in Dictionary.keys():\n",
    "        if DF[word] == 0:\n",
    "            QueryWeight.update({word:QTF[query][word] * math.log(doc_cnt)})\n",
    "        else:\n",
    "            QueryWeight.update({word:QTF[query][word] * math.log(doc_cnt/DF[word])})\n",
    "\n",
    "    for doc in Doc:\n",
    "        DocWeight.update({doc:{}})\n",
    "        for word in Dictionary.keys():\n",
    "            if DF[word] == 0:\n",
    "                DocWeight[doc].update({word:TF[doc][word] * math.log(doc_cnt)})\n",
    "            else:\n",
    "                DocWeight[doc].update({word:TF[doc][word] * math.log(doc_cnt/DF[word])})\n",
    "\n",
    "    for doc in Doc:\n",
    "        s1 = 0\n",
    "        s2 = 0\n",
    "        s3 = 0\n",
    "        for word, q_weight in QueryWeight.items():\n",
    "            s1 += q_weight * DocWeight[doc][word]\n",
    "            s2 += math.pow(q_weight,2)\n",
    "            s3 += math.pow(DocWeight[doc][word],2)\n",
    "        s2 = math.pow(s2,(1/2))\n",
    "        s3 = math.pow(s3,(1/2))\n",
    "        s4 = s2 * s3\n",
    "        SIM.update({doc:s1/s4})\n",
    "\n",
    "    SIM_SORT = sorted(SIM.items(), key=lambda SIM: SIM[1],reverse=True)\n",
    "\n",
    "    for item in SIM_SORT:\n",
    "        f.write(item[0] + \" \")\n",
    "    f.write(\"\\r\\n\")\n",
    "\n",
    "f.close()"
   ]
  },
  {
   "cell_type": "code",
   "execution_count": null,
   "metadata": {},
   "outputs": [],
   "source": []
  }
 ],
 "metadata": {
  "kernelspec": {
   "display_name": "Python 3",
   "language": "python",
   "name": "python3"
  },
  "language_info": {
   "codemirror_mode": {
    "name": "ipython",
    "version": 3
   },
   "file_extension": ".py",
   "mimetype": "text/x-python",
   "name": "python",
   "nbconvert_exporter": "python",
   "pygments_lexer": "ipython3",
   "version": "3.7.3"
  }
 },
 "nbformat": 4,
 "nbformat_minor": 2
}
